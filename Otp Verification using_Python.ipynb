{
 "cells": [
  {
   "cell_type": "code",
   "execution_count": null,
   "id": "0cc174fd-9c9c-4f3f-a25d-81d8d829d761",
   "metadata": {},
   "outputs": [
    {
     "name": "stdout",
     "output_type": "stream",
     "text": [
      "OTP sent to rajyalakshmibuilders@gmail.com\n"
     ]
    }
   ],
   "source": [
    "import random\n",
    "import smtplib\n",
    "from email.mime.text import MIMEText\n",
    "import tkinter as tk\n",
    "from tkinter import messagebox\n",
    "\n",
    "# Function to generate OTP\n",
    "def generate_otp():\n",
    "    otp = random.randint(100000, 999999)\n",
    "    return otp\n",
    "\n",
    "# Function to send OTP email\n",
    "def send_otp_email(email, otp):\n",
    "    # Set up the SMTP server (you can replace it with your email provider's details)\n",
    "    smtp_server = \"smtp.gmail.com\"\n",
    "    smtp_port = 587\n",
    "    sender_email = \"thatisettianil@gmail.com\"  # Replace with your email address\n",
    "    sender_password = \"zalp rogf obcg tfht\"     # Replace with your email password\n",
    "\n",
    "    # Compose the email message\n",
    "    subject = \"Your OTP Code\"\n",
    "    body = f\"Your OTP code is: {otp}\"\n",
    "\n",
    "    msg = MIMEText(body)\n",
    "    msg[\"From\"] = sender_email\n",
    "    msg[\"To\"] = email\n",
    "    msg[\"Subject\"] = subject\n",
    "\n",
    "    # Sending the email\n",
    "    try:\n",
    "        with smtplib.SMTP(smtp_server, smtp_port) as server:\n",
    "            server.starttls()  # Secure the connection\n",
    "            server.login(sender_email, sender_password)\n",
    "            server.sendmail(sender_email, email, msg.as_string())\n",
    "            print(f\"OTP sent to {email}\")\n",
    "    except Exception as e:\n",
    "        print(f\"Error sending OTP email: {e}\")\n",
    "\n",
    "# Function to verify OTP\n",
    "def verify_otp():\n",
    "    entered_otp = otp_entry.get()\n",
    "    if entered_otp == str(otp):  # Check if the entered OTP matches the generated OTP\n",
    "        messagebox.showinfo(\"Success\", \"OTP verified successfully!\")\n",
    "    else:\n",
    "        messagebox.showerror(\"Error\", \"Invalid OTP! Please try again.\")\n",
    "\n",
    "# Function to trigger OTP generation and sending\n",
    "def request_otp():\n",
    "    email = email_entry.get()\n",
    "    global otp  # Make OTP global to access it in verify_otp function\n",
    "    otp = generate_otp()  # Generate OTP\n",
    "    send_otp_email(email, otp)  # Send OTP to email\n",
    "    messagebox.showinfo(\"Success\", f\"OTP has been sent to {email}. Please check your inbox.\")\n",
    "\n",
    "# Set up the GUI using tkinter\n",
    "root = tk.Tk()\n",
    "root.title(\"OTP Verification\")\n",
    "\n",
    "# Create labels, entries, and buttons\n",
    "email_label = tk.Label(root, text=\"Enter your email:\")\n",
    "email_label.pack(pady=5)\n",
    "\n",
    "email_entry = tk.Entry(root)\n",
    "email_entry.pack(pady=5)\n",
    "\n",
    "otp_label = tk.Label(root, text=\"Enter OTP:\")\n",
    "otp_label.pack(pady=5)\n",
    "\n",
    "otp_entry = tk.Entry(root)\n",
    "otp_entry.pack(pady=5)\n",
    "\n",
    "request_otp_button = tk.Button(root, text=\"Request OTP\", command=request_otp)\n",
    "request_otp_button.pack(pady=10)\n",
    "\n",
    "verify_button = tk.Button(root, text=\"Verify OTP\", command=verify_otp)\n",
    "verify_button.pack(pady=5)\n",
    "\n",
    "# Run the GUI\n",
    "root.mainloop()\n"
   ]
  },
  {
   "cell_type": "code",
   "execution_count": null,
   "id": "eb81afbd-788e-4ef4-bf03-651b10c2600c",
   "metadata": {},
   "outputs": [],
   "source": []
  }
 ],
 "metadata": {
  "kernelspec": {
   "display_name": "Python 3 (ipykernel)",
   "language": "python",
   "name": "python3"
  },
  "language_info": {
   "codemirror_mode": {
    "name": "ipython",
    "version": 3
   },
   "file_extension": ".py",
   "mimetype": "text/x-python",
   "name": "python",
   "nbconvert_exporter": "python",
   "pygments_lexer": "ipython3",
   "version": "3.12.4"
  }
 },
 "nbformat": 4,
 "nbformat_minor": 5
}
